# -------------------------------------------------------------------------------------------------
# FINAL SCRIPT for SpaceX Launch Records Dashboard
#
# To run this application:
# 1. Make sure you have 'spacex_launch_dash.csv' in the same directory.
# 2. Open your terminal in this directory.
# 3. Install the required libraries:
#    pip3 install pandas
#    pip3 install dash
# 4. Run the script:
#    python3 spacex-dash-app.py
# 5. Open the URL provided in the terminal (e.g., http://127.0.0.1:8050/) in your web browser.
# -------------------------------------------------------------------------------------------------

# Import required libraries
import pandas as pd
import dash
from dash import dcc, html, Input, Output  # Modern way to import Dash components
import plotly.express as px

# Read the launch data into a pandas dataframe
spacex_df = pd.read_csv("spacex_launch_dash.csv")
max_payload = spacex_df['Payload Mass (kg)'].max()
min_payload = spacex_df['Payload Mass (kg)'].min()

# Prepare dropdown options for launch sites
launch_sites = spacex_df['Launch Site'].unique()
options_list = [{'label': 'All Sites', 'value': 'ALL'}]
options_list.extend([{'label': site, 'value': site} for site in launch_sites])

# Create a Dash application
app = dash.Dash(__name__)

# Create the application's layout
app.layout = html.Div(children=[
    html.H1('SpaceX Launch Records Dashboard',
            style={'textAlign': 'center', 'color': '#503D36', 'font-size': 40}),
    
    # TASK 1: Add a dropdown list to enable Launch Site selection
    dcc.Dropdown(
        id='site-dropdown',
        options=options_list,
        value='ALL',
        placeholder="Select a Launch Site here",
        searchable=True
    ),
    html.Br(),

    # TASK 2: Add a pie chart to show the total successful launches count for all sites
    html.Div(dcc.Graph(id='success-pie-chart')),
    html.Br(),

    html.P("Payload Mass range (Kg):"),
    
    # TASK 3: Add a slider to select payload range
    dcc.RangeSlider(
        id='payload-slider',
        min=0,
        max=10000,
        step=1000,
        marks={0: '0', 2500: '2500', 5000: '5000', 7500: '7500', 10000: '10000'},
        value=[min_payload, max_payload]
    ),
    html.Br(),

    # TASK 4: Add a scatter chart to show the correlation between payload and launch success
    html.Div(dcc.Graph(id='success-payload-scatter-chart')),
])

# --- CALLBACKS ---
# This is where the logic for updating the graphs based on user input goes.

# TASK 2: Callback for the Pie Chart
@app.callback(
    Output(component_id='success-pie-chart', component_property='figure'),
    Input(component_id='site-dropdown', component_property='value')
)
def get_pie_chart(entered_site):
    if entered_site == 'ALL':
        # If 'ALL' is selected, show total success counts for each site
        fig = px.pie(spacex_df, values='class', names='Launch Site', title='Total Success Launches By Site')
        return fig
    else:
        # If a specific site is selected, show success (1) vs. failure (0) counts
        filtered_df = spacex_df[spacex_df['Launch Site'] == entered_site]
        # Create a new dataframe with counts for success and failure
        site_df = filtered_df.groupby(['class']).size().reset_index(name='class count')
        fig = px.pie(site_df, values='class count', names='class', title=f'Total Success vs. Failure for Site {entered_site}')
        return fig

# TASK 4: Callback for the Scatter Plot
@app.callback(
    Output(component_id='success-payload-scatter-chart', component_property='figure'),
    [Input(component_id='site-dropdown', component_property='value'),
     Input(component_id='payload-slider', component_property='value')]
)
def update_scatter_chart(entered_site, payload_range):
    # Unpack the payload range from the slider
    low, high = payload_range
    # Filter the dataframe by the selected payload range first
    df = spacex_df[(spacex_df['Payload Mass (kg)'] >= low) & (spacex_df['Payload Mass (kg)'] <= high)]

    if entered_site == 'ALL':
        # For 'ALL' sites, render a scatter plot of payload vs. class, colored by booster version
        fig = px.scatter(df, x='Payload Mass (kg)', y='class',
                         color='Booster Version Category',
                         title='Payload vs. Outcome for All Sites')
        return fig
    else:
        # For a specific site, filter the dataframe further by the selected site
        filtered_df = df[df['Launch Site'] == entered_site]
        fig = px.scatter(filtered_df, x='Payload Mass (kg)', y='class',
                         color='Booster Version Category',
                         title=f'Payload vs. Outcome for site {entered_site}')
        return fig

# --- Main Block to Run the App ---
if __name__ == '__main__':
    # Use app.run() as it's the required command in your environment
    app.run(debug=True)